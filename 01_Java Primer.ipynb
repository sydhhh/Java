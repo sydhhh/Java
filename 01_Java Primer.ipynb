{
 "cells": [
  {
   "cell_type": "markdown",
   "metadata": {},
   "source": [
    "# Getting Started\n"
   ]
  },
  {
   "cell_type": "markdown",
   "metadata": {},
   "source": [
    "## Naming Conventions\n",
    "- `Class`: 类\n",
    "    - 每个单词首字母大写\n",
    "    \n",
    "```java\n",
    "public class MyFish {...}\n",
    "//----------------------------------------------\n",
    "```\n",
    "- `Interface`: 接口 \n",
    "    - ___Adjectives___: end with “able” or “ible”\n",
    "    - Or ___Nouns___.\n",
    "    \n",
    "```java\n",
    "public interface Serializable {...}\n",
    "public interface SystemPanel {...}\n",
    "//----------------------------------------------\n",
    "```\n",
    "- `Method`：方法\n",
    "    - 包含一个动词\n",
    "    - 第一个单词小写\n",
    "    \n",
    "```java\n",
    "public void locate() {...} // verb\n",
    "public String getWayPoint() {...} // verb and noun\n",
    "//----------------------------------------------\n",
    "```\n",
    "- `Instance` and `Static Variable`: 变量 \n",
    "    - 名词\n",
    "    \n",
    "```java\n",
    "private String wayPoint;\n",
    "//----------------------------------------------\n",
    "```\n",
    "- `Generic Type Parameter`：泛型\n",
    "    - 大写单字母\n",
    "        - `T`: type\n",
    "        - `E`: collection elements\n",
    "        - `S`: service loaders\n",
    "        - `K`/`V`: map keys and values\n",
    "    \n",
    "```java\n",
    "public interface Map <K,V> {\n",
    "    V put(K key, V value);\n",
    "}\n",
    "//----------------------------------------------\n",
    "```\n",
    "- `Constant`：常数 \n",
    "    - ___All uppercase letters.___\n",
    "    \n",
    "```java\n",
    "public static final int MAX_DEPTH = 200;\n",
    "//----------------------------------------------\n",
    "```\n",
    "- `Enumeration`：枚举\n",
    "    - Enumeration names: follow class name conventions：首字母大写\n",
    "    - Enumeration set of objects: 全大写\n",
    "    \n",
    "```java\n",
    "enum Battery {CRITICAL, LOW, CHARGED, FULL}\n",
    "```"
   ]
  },
  {
   "cell_type": "markdown",
   "metadata": {},
   "source": [
    "## Base Types\n",
    "```java\n",
    "boolean flag = true;\n",
    "boolean verbose, debug; // two variables declared, but not yet initialized\n",
    "char grade = 'A';\n",
    "byte b = 12;\n",
    "short s = 24;\n",
    "int i, j, k = 257; // three variables declared; only k initialized\n",
    "long l = 890L; // note the use of ”L” here\n",
    "float pi = 3.1416F; // note the use of ”F” here\n",
    "double e = 2.71828, a = 6.022e23; // both variables are initialized\n",
    "```\n",
    "\n",
    "- Base type的Instance variables未初始化也有初始值！\n",
    "    - 0\n",
    "    - false\n",
    "    - null"
   ]
  },
  {
   "cell_type": "markdown",
   "metadata": {},
   "source": [
    "# Classes and Objects"
   ]
  },
  {
   "cell_type": "markdown",
   "metadata": {},
   "source": [
    "- __Objects__: __instance__ of a __class__.\n",
    "\n",
    "- __Members__ of a __class__: 包括Data Member和Methods\n",
    "    - __Data Members:__\n",
    "        - __Instance variables__: \n",
    "            - 一般是private，需要通过method来访问它们。\n",
    "            - 定义在在class之内，Methods之外，可以看作整个class的全局变量\n",
    "            - 然后每个method底下也有很多别的变量叫__local variables__：无默认初始值。\n",
    "        - <font color='red'>如果一个变量被static修饰，那么这个变量就不属于实例变量了</font>\n",
    "    - __Methods__: accept parameters as arguments"
   ]
  },
  {
   "cell_type": "markdown",
   "metadata": {},
   "source": [
    "## Modifiers\n",
    "### Access Modifiers: \n",
    "- public：所有包\n",
    "- private：该类\n",
    "- package-private(默认)：同包的类\n",
    "- protected：同包的类+别包其子类\n"
   ]
  },
  {
   "cell_type": "markdown",
   "metadata": {},
   "source": [
    "### Nonaccess Modifiers\n",
    "- `static`：\n",
    "    - `static variable`: 不管有多少个instances，这个变量都只存在一个，真正意义上的global。\n",
    "        - 比如用作计数器\n",
    "        - `static final variable`：常数\n",
    "    - `static method`: 一样，只属于类而不属于各个instances。\n",
    "        - 所以不能用“.”来调用\n",
    "        - 例如main函数，哪有.main()这样的？\n",
    "    - `Static Initializers`（静态代码块）:这个block只执行一次\n",
    "```java\n",
    "static {\n",
    "        numberOfCandidates = getNumberOfCandidates();\n",
    "}\n",
    "```\n",
    "        \n",
    "- `abstract`:（详见Note 2）\n",
    "    - `abstract method`: 只有signature没有body\n",
    "    - `abstract class`: 不能实例化\n",
    "- `final`:\n",
    "    - A `final class` cannot be extended. 不可继承\n",
    "    - A `final method` cannot be overridden. 不可重写\n",
    "    - A `final variable` is initialized only once and cannot be changed. 初始化一次不可变\n",
    "    - A `static final variable`：常数"
   ]
  },
  {
   "cell_type": "markdown",
   "metadata": {},
   "source": [
    "## Declaring Instance Variables\n",
    "```java\n",
    "private int count;\n",
    "```"
   ]
  },
  {
   "cell_type": "markdown",
   "metadata": {},
   "source": [
    "## Declaring Methods\n",
    "- 一个Method包括俩部分：\n",
    "    - signature：名字和变量\n",
    "    - body：{...}\n",
    "\n",
    "```java\n",
    "public void increment(int delta) {\n",
    "    count += delta;\n",
    "}\n",
    "```"
   ]
  },
  {
   "cell_type": "markdown",
   "metadata": {},
   "source": [
    "# Strings, Wrappers, Arrays, and Enum Types"
   ]
  },
  {
   "cell_type": "markdown",
   "metadata": {},
   "source": [
    "## String\n",
    "- 注意，`char`才是基本类型（只能存一个字符），`String`很强大：\n",
    "\n",
    "```java\n",
    "String title = \"Data Structures & Algorithms in Java\"\n",
    "String term = \"over\" + \"load\";\n",
    "//insert()\n",
    "//append()\n",
    "//reverse()\n",
    "//toString()\n",
    "```\n"
   ]
  },
  {
   "cell_type": "markdown",
   "metadata": {},
   "source": [
    "## Wrapper: 是一个object \n",
    "- such as `Integer` of `int`, `Float` of `float`. \n",
    "    - The former one is object and the latter one is primitive type.\n",
    "\n",
    "```java\n",
    "// Create hash map of weight groups\n",
    "HashMap<String, Integer> weightGroups = new HashMap<> ();\n",
    "weightGroups.put(\"welterweight\", 147);\n",
    "weightGroups.put(\"middleweight\", 160);\n",
    "weightGroups.put(\"cruiserweight\", 200);\n",
    "```\n",
    "\n",
    "```java\n",
    "// Establish weight allowance\n",
    "Integer weightAllowanceW = new Integer (5);\n",
    "```"
   ]
  },
  {
   "cell_type": "markdown",
   "metadata": {},
   "source": [
    "### Autoboxing and Unboxing\n",
    "- 就是说两者之间会自动转化"
   ]
  },
  {
   "cell_type": "markdown",
   "metadata": {},
   "source": [
    "## Arrays\n",
    "- 最基本的数组\n",
    "\n",
    "```java\n",
    "int[] primes = {2, 3, 5, 7, 11, 13, 17, 19, 23, 29};\n",
    "double[] measurements = new double[1000];\n",
    "```"
   ]
  },
  {
   "cell_type": "markdown",
   "metadata": {},
   "source": [
    "## Enum\n",
    "\n",
    "```java\n",
    "public enum Day { MON, TUE, WED, THU, FRI, SAT, SUN };\n",
    "Day today;\n",
    "today = Day.TUE;\n",
    "```"
   ]
  },
  {
   "cell_type": "markdown",
   "metadata": {},
   "source": [
    "# Control Flow\n",
    "## For-Each Loop (很常用)\n",
    "```java\n",
    "//定义两个objects\n",
    "ElectricGuitar eGuitar1 = new ElectricGuitar();\n",
    "eGuitar1.setName(\"Blackie\");\n",
    "ElectricGuitar eGuitar2 = new ElectricGuitar();\n",
    "eGuitar2.setName(\"Lucille\");\n",
    "\n",
    "//加入ArrayList\n",
    "ArrayList <ElectricGuitar> eList = new ArrayList<>();\n",
    "eList.add(eGuitar1); eList.add(eGuitar2);\n",
    "\n",
    "// 用 \":\" 来实现循环\n",
    "for (ElectricGuitar e : eList) {\n",
    "    System.out.println(\"Name:\" + e.getName());\n",
    "}\n",
    "```"
   ]
  },
  {
   "cell_type": "markdown",
   "metadata": {},
   "source": [
    "# 不错的例子\n",
    "\n",
    "```java\n",
    "1 public class CreditCard { \n",
    "2 // Instance variables:\n",
    "3     private String customer; // name of the customer (e.g., ¡±John Bowman¡±)\n",
    "4     private String bank; // name of the bank (e.g., ¡±California Savings¡±)\n",
    "5     private String account; // account identifier (e.g., ¡±5391 0375 9387 5309¡±)\n",
    "6     private int limit; // credit limit (measured in dollars)\n",
    "7     protected double balance; // current balance (measured in dollars)\n",
    "8 // Constructors: 重载overload\n",
    "9     public CreditCard(String cust, String bk, String acnt, int lim, double initialBal) { \n",
    "10         customer = cust;\n",
    "11         bank = bk;\n",
    "12         account = acnt;\n",
    "13         limit = lim;\n",
    "14         balance = initialBal;\n",
    "15     } \n",
    "16     public CreditCard(String cust, String bk, String acnt, int lim) { \n",
    "17         this(cust, bk, acnt, lim, 0.0); // use a balance of zero as default\n",
    "18     } \n",
    "19 // Accessor methods: get方法\n",
    "20     public String getCustomer( ) { return customer; } \n",
    "21     public String getBank( ) { return bank; } \n",
    "22     public String getAccount( ) { return account; } \n",
    "23     public int getLimit( ) { return limit; } \n",
    "24     public double getBalance( ) { return balance; } \n",
    "25 // Update methods: set方法\n",
    "26     public boolean charge(double price) { // make a charge\n",
    "27         if (price + balance > limit) // if charge would surpass limit\n",
    "28             return false; // refuse the charge\n",
    "29         // at this point, the charge is successful\n",
    "30         balance += price; // update the balance\n",
    "31         return true; // announce the good news\n",
    "32     } \n",
    "33     public void makePayment(double amount) { // make a payment\n",
    "34         balance -= amount;\n",
    "35     } \n",
    "36 // Utility method to print a card's information\n",
    "37     public static void printSummary(CreditCard card) { \n",
    "38         System.out.println(\"Customer = \" + card.customer);\n",
    "39         System.out.println(\"Bank = \" + card.bank);\n",
    "40         System.out.println(\"Account = \" + card.account);\n",
    "41         System.out.println(\"Balance = \" + card.balance); // implicit cast\n",
    "42         System.out.println(\"Limit = \" + card.limit); // implicit cast\n",
    "43     } \n",
    "44 \n",
    "45 }\n",
    "```"
   ]
  },
  {
   "cell_type": "markdown",
   "metadata": {},
   "source": [
    "# Packages and Imports\n",
    "\n",
    "- <font color='red'>__每个java文件里面只有一个public class，且两者同名！__</font>\n",
    "\n",
    "\n",
    "- 一个package下面包括很多class. (即很多.java文件)\n",
    "\n",
    "\n",
    "- 所谓import就是导入别的class\n",
    "```java\n",
    "import packageName.className;\n",
    "```"
   ]
  }
 ],
 "metadata": {
  "kernelspec": {
   "display_name": "Python [default]",
   "language": "python",
   "name": "python2"
  },
  "language_info": {
   "codemirror_mode": {
    "name": "ipython",
    "version": 2
   },
   "file_extension": ".py",
   "mimetype": "text/x-python",
   "name": "python",
   "nbconvert_exporter": "python",
   "pygments_lexer": "ipython2",
   "version": "2.7.13"
  },
  "toc": {
   "colors": {
    "hover_highlight": "#DAA520",
    "running_highlight": "#FF0000",
    "selected_highlight": "#FFD700"
   },
   "moveMenuLeft": true,
   "nav_menu": {
    "height": "358px",
    "width": "251px"
   },
   "navigate_menu": true,
   "number_sections": true,
   "sideBar": true,
   "threshold": 4,
   "toc_cell": false,
   "toc_section_display": "block",
   "toc_window_display": true
  }
 },
 "nbformat": 4,
 "nbformat_minor": 2
}
