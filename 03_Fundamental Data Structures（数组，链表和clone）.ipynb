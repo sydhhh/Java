{
 "cells": [
  {
   "cell_type": "markdown",
   "metadata": {},
   "source": [
    "# Arrays\n",
    "- 区分Array, ArrayList, and List （详见Note 7）\n",
    "    - Array:定长\n",
    "    - ArrayList：不定长\n",
    "    - List是一个接口，不能被实例化，而上面俩是class"
   ]
  },
  {
   "cell_type": "markdown",
   "metadata": {},
   "source": [
    "## `java.util.Arrays`\n",
    "\n",
    "\n",
    "- `equals(A, B)`: \n",
    "    - A and B have the same values in the same order.\n",
    "- `fill(A, x)`: \n",
    "    - Stores value x in every cell of array A.\n",
    "- `copyOf(A, n):`\n",
    "    - Copied the first `n` values of `A`. （如果n比length大的话补0或者null）\n",
    "- `copyOfRange(A, s, t)`: \n",
    "    - Copied from A[s] to A[t.1].\n",
    "- `toString(A)`: \n",
    "    - Separated by \", \". \n",
    "- `sort(A)`: \n",
    "    - Sorts the array A.\n",
    "- `binarySearch(A, x)`: \n",
    "    - Searches the sorted array A for value x, returning the\n",
    "index or else the index of where it\n",
    "could be inserted.\n",
    "\n",
    "\n",
    "```java\n",
    "//例子-----------------------------------------\n",
    "import java.util.Arrays;\n",
    "int[] A = {41, 38, 48, 12, 28, 46, 33, 19, 10, 58};\n",
    "Arrays.sort(A);\n",
    "```"
   ]
  },
  {
   "cell_type": "markdown",
   "metadata": {},
   "source": [
    "# Linked Lists (没必要看)\n",
    "- Singly Linked Lists\n",
    "- Circularly Linked Lists\n",
    "- Doubly Linked Lists"
   ]
  },
  {
   "cell_type": "markdown",
   "metadata": {},
   "source": [
    "# Equivalence Testing\n",
    "\n",
    "- `a==b`: \n",
    "    - Tests if a and b __refer__ to the same underlying array instance.\n",
    "\n",
    "\n",
    "- `a.equals(b)`:\n",
    "    - 和上面一样 \n",
    "    - 因为Arrays are not a\n",
    "true class type and do not override the `Object.equals` method.\n",
    "\n",
    "\n",
    "- `Arrays.equals(a,b)`: \n",
    "    - 对应元素都 \"equal\"\n",
    "    - 遍历`a[k].equals(b[k])`来实现\n",
    "\n",
    "- `Arrays.deepEquals(a,b)`:\n",
    "    - 多维数组的话上一个会认为false，得用它\n",
    "    - 俩数组如果`deepEquals()`的话，也`equals()`\n",
    "    - `Arrays.deepEquals(a[k],b[k])`\n",
    "rather than `a[k].equals(b[k])`."
   ]
  },
  {
   "cell_type": "markdown",
   "metadata": {},
   "source": [
    "# <font color='red'>Cloning Data Structures</font>"
   ]
  },
  {
   "cell_type": "markdown",
   "metadata": {},
   "source": [
    "```java\n",
    "int[ ] data = {2, 3, 5, 7, 11, 13, 17, 19};\n",
    "int[ ] backup;\n",
    "backup = data; // warning; not a copy\n",
    "```\n",
    "\n",
    "<img src='./pics/c.jpg', width=400>"
   ]
  },
  {
   "cell_type": "markdown",
   "metadata": {},
   "source": [
    "```java\n",
    "backup = data.clone( ); //shallow copy\n",
    "```\n",
    "\n",
    "<img src='./pics/c2.jpg', width=400>"
   ]
  },
  {
   "cell_type": "markdown",
   "metadata": {},
   "source": [
    "- `java.util.Arrays` class does not provide any “deepClone”\n",
    "method.\n",
    "    - 浅拷贝是指拷贝对象时仅仅拷贝对象本身（包括对象中的基本变量），而不拷贝对象包含的引用指向的对象。\n",
    "    - 深拷贝不仅拷贝对象本身，而且拷贝对象包含的引用指向的所有对象。\n",
    "    \n",
    "```java\n",
    "guests = contacts.clone()//可以看出copy后指向的对象并没有被拷贝\n",
    "```\n",
    "\n",
    "<img src='./pics/c3.jpg', width=400>"
   ]
  },
  {
   "cell_type": "code",
   "execution_count": null,
   "metadata": {
    "collapsed": true
   },
   "outputs": [],
   "source": []
  }
 ],
 "metadata": {
  "kernelspec": {
   "display_name": "Python [default]",
   "language": "python",
   "name": "python2"
  },
  "language_info": {
   "codemirror_mode": {
    "name": "ipython",
    "version": 2
   },
   "file_extension": ".py",
   "mimetype": "text/x-python",
   "name": "python",
   "nbconvert_exporter": "python",
   "pygments_lexer": "ipython2",
   "version": "2.7.13"
  },
  "toc": {
   "colors": {
    "hover_highlight": "#DAA520",
    "running_highlight": "#FF0000",
    "selected_highlight": "#FFD700"
   },
   "moveMenuLeft": true,
   "nav_menu": {
    "height": "104px",
    "width": "251px"
   },
   "navigate_menu": true,
   "number_sections": true,
   "sideBar": true,
   "threshold": 4,
   "toc_cell": false,
   "toc_section_display": "block",
   "toc_window_display": true
  }
 },
 "nbformat": 4,
 "nbformat_minor": 2
}
