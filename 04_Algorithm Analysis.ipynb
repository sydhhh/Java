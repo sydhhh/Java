{
 "cells": [
  {
   "cell_type": "markdown",
   "metadata": {},
   "source": [
    "# The Seven Functions Used"
   ]
  },
  {
   "cell_type": "markdown",
   "metadata": {},
   "source": [
    "1.The Constant Function:\n",
    "- $f(n)=c$\n",
    "    \n",
    "2.The Logarithm Function\n",
    "- $f(n)=log_bn$\n",
    "- $logn=log_2n$： 和底数无关！\n",
    "<img src=\"./pics/log.jpg\",width=550>\n",
    "\n",
    "3.The Linear Function\n",
    "- $f(n)=n$\n",
    "\n",
    "4.The N-Log-N Function\n",
    "- $f(n)=nlogn$\n",
    "\n",
    "5.The Quadratic Function\n",
    "- $f(n)=n^2$\n",
    "- $1+2+3+···+(n−2)+(n−1)+n = \\frac{n(n+1)}{2} \\approx n^2$\n",
    "\n",
    "6.The Cubic Function and Other Polynomials\n",
    "- $f(n)=n^3$\n",
    "- $f(n)=a_0+a_1n+a_2n^2+a_3n^3 +...+a_dn^d$\n",
    "    - $d$ is the $degree$.\n",
    "    \n",
    "7.The Exponential Function\n",
    "- $f(n)=b^n$\n",
    "- <font color='red'>常用：</font>$1+2+4+8+···+2^{n−1} = 2^n−1$\n",
    "- 等比数列公式：\n",
    "    - $a_n=a_1\\times q^{(n-1)}$\n",
    "    - $a_n=a_m\\times q^{(n-m)}$\n",
    "    - $S_n=\\frac{a_1(1-q^n)}{1-q}$\n",
    "<img src=\"./pics/exp.jpg\",width=550>\n"
   ]
  },
  {
   "cell_type": "markdown",
   "metadata": {},
   "source": [
    "# Asymptotic Analysis"
   ]
  },
  {
   "cell_type": "markdown",
   "metadata": {},
   "source": [
    "## Big-O\n",
    "- 最坏情况\n",
    "\n",
    "## Big-Omega\n",
    "- 最好情况\n",
    "\n",
    "## Big-Theta\n",
    "- 平均"
   ]
  }
 ],
 "metadata": {
  "kernelspec": {
   "display_name": "Python [default]",
   "language": "python",
   "name": "python2"
  },
  "language_info": {
   "codemirror_mode": {
    "name": "ipython",
    "version": 2
   },
   "file_extension": ".py",
   "mimetype": "text/x-python",
   "name": "python",
   "nbconvert_exporter": "python",
   "pygments_lexer": "ipython2",
   "version": "2.7.13"
  },
  "toc": {
   "colors": {
    "hover_highlight": "#DAA520",
    "running_highlight": "#FF0000",
    "selected_highlight": "#FFD700"
   },
   "moveMenuLeft": true,
   "nav_menu": {
    "height": "104px",
    "width": "251px"
   },
   "navigate_menu": true,
   "number_sections": true,
   "sideBar": true,
   "threshold": 4,
   "toc_cell": false,
   "toc_section_display": "block",
   "toc_window_display": true
  }
 },
 "nbformat": 4,
 "nbformat_minor": 2
}
