{
 "cells": [
  {
   "cell_type": "markdown",
   "metadata": {},
   "source": [
    "# Designing Recursive Algorithms\n",
    "- Test for base cases:\n",
    "    - We begin by testing for __a set of base cases__ (即至少1个base case). \n",
    "    - These base cases should be defined so that every possible\n",
    "chain of recursive calls will __eventually reach a base case__, (即所有下面的递归调用最终都从这里出去)\n",
    "    - and the handling of\n",
    "each base case __should not use recursion__.（即Base Case直接实现，无递归）\n",
    "- Recur:\n",
    "    - If not a base case, we perform one or more recursive calls. \n",
    "    - This recursive\n",
    "step may involve a test that decides which of several possible recursive\n",
    "calls to make. \n",
    "    - We should define each possible recursive call so that it makes\n",
    "progress towards a base case."
   ]
  },
  {
   "cell_type": "markdown",
   "metadata": {},
   "source": [
    "# <font color='red'>Parameterizing a Recursion</font>\n",
    "\n",
    "- 这一点很重要，即递归时往往需要新的输入参数：\n",
    "    - 比如, a natural method signature for a caller would appear as\n",
    "`binarySearch(data, target)`.\n",
    "    - 但是，我们需要use the __additional\n",
    "parameters__ to demarcate（区分） subarrays as the recursion proceeds：\n",
    "        - `binarySearch(data, target, low, high)`\n",
    "        - <font color='red'>__也就是说我们通过额外的参数来界定当前参与递归的subArray__</font>"
   ]
  },
  {
   "cell_type": "markdown",
   "metadata": {},
   "source": [
    "# Tail Recursion\n",
    "\n",
    "- 如果函数最后一行的return里递归调用下一层，这样的函数可以转变成loop执行。\n",
    "    - Tail Recursion则要求这个return是直接return，不能有别的操作。\n",
    "        - 尾递归就是从最后开始计算, 每递归一次就算出相应的结果, 也就是说, 函数调用出现在调用者函数的尾部, 因为是尾部, 所以根本没有必要去保存任何局部变量. 直接让被调用的函数返回时越过调用者, 返回到调用者的调用者去。\n",
    "        - 尾递归就是把当前的运算结果（或路径）放在参数里传给下层函数，深层函数所面对的不是越来越简单的问题，而是越来越复杂的问题，因为参数里带有前面若干步的运算路径。\n",
    "        - 尾递归是极其重要的，不用尾递归，__函数的堆栈耗用难以估量，需要保存很多中间函数的堆栈。__\n",
    "    - 简而言之，一般递归是向下递归再向上返回，而尾递归不需要向上返回了，但是需要引入而外的空间来保存当前的结果。"
   ]
  },
  {
   "cell_type": "code",
   "execution_count": 1,
   "metadata": {
    "collapsed": true
   },
   "outputs": [],
   "source": [
    "def recsum(x):\n",
    "    if x == 1:\n",
    "        return x\n",
    "    else:\n",
    "        return x + recsum(x - 1)"
   ]
  },
  {
   "cell_type": "markdown",
   "metadata": {},
   "source": [
    "```python\n",
    "recsum(5)\n",
    "5 + recsum(4)\n",
    "5 + (4 + recsum(3))\n",
    "5 + (4 + (3 + recsum(2)))\n",
    "5 + (4 + (3 + (2 + recsum(1))))\n",
    "5 + (4 + (3 + (2 + 1)))\n",
    "15\n",
    "```\n",
    "\n",
    "- Here's a tail-recursive version of the same function:"
   ]
  },
  {
   "cell_type": "code",
   "execution_count": 2,
   "metadata": {
    "collapsed": true
   },
   "outputs": [],
   "source": [
    "def tailrecsum(x, running_total=0):\n",
    "    if x == 0:\n",
    "        return running_total\n",
    "    else:\n",
    "        return tailrecsum(x - 1, running_total + x)"
   ]
  },
  {
   "cell_type": "markdown",
   "metadata": {},
   "source": [
    "```python\n",
    "tailrecsum(5, 0)\n",
    "tailrecsum(4, 5)\n",
    "tailrecsum(3, 9)\n",
    "tailrecsum(2, 12)\n",
    "tailrecsum(1, 14)\n",
    "tailrecsum(0, 15)\n",
    "15\n",
    "```"
   ]
  }
 ],
 "metadata": {
  "kernelspec": {
   "display_name": "Python [default]",
   "language": "python",
   "name": "python2"
  },
  "language_info": {
   "codemirror_mode": {
    "name": "ipython",
    "version": 2
   },
   "file_extension": ".py",
   "mimetype": "text/x-python",
   "name": "python",
   "nbconvert_exporter": "python",
   "pygments_lexer": "ipython2",
   "version": "2.7.13"
  },
  "toc": {
   "colors": {
    "hover_highlight": "#DAA520",
    "running_highlight": "#FF0000",
    "selected_highlight": "#FFD700"
   },
   "moveMenuLeft": true,
   "nav_menu": {
    "height": "67px",
    "width": "251px"
   },
   "navigate_menu": true,
   "number_sections": true,
   "sideBar": true,
   "threshold": 4,
   "toc_cell": false,
   "toc_section_display": "block",
   "toc_window_display": true
  }
 },
 "nbformat": 4,
 "nbformat_minor": 2
}
