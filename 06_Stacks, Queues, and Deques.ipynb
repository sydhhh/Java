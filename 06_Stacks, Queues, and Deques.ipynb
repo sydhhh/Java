{
 "cells": [
  {
   "cell_type": "markdown",
   "metadata": {},
   "source": [
    "# Introduction\n",
    "- 本章我们讲Stack, Queue, and Deque。\n",
    "    - FIFO，LIFO\n",
    "    - 但不能处理任意位置的元素，而List接口可以满足这个要求（见第7章）"
   ]
  },
  {
   "cell_type": "markdown",
   "metadata": {},
   "source": [
    "# Stacks\n",
    "## `java.util.Stack`类\n",
    "\n",
    "- 其实是因为历史原因才保留它的，一般不用，可以用deque"
   ]
  },
  {
   "cell_type": "markdown",
   "metadata": {},
   "source": [
    "Type|\tMethod | Description\n",
    " :-:|:-:|:-\n",
    "boolean |\t`empty()` |Tests if this stack is empty.\n",
    "E|\t`peek()` |Looks at the object at the top of this stack without removing it from the stack.\n",
    "E|\t`pop()`| Removes the object at the top of this stack and returns that object as the value of this function.\n",
    "E\t|`push(E item)`| Pushes an item onto the top of this stack.\n",
    "int\t|`search(Object o)` |Returns the 1-based position where an object is on this stack."
   ]
  },
  {
   "cell_type": "markdown",
   "metadata": {},
   "source": [
    "## 实例化\n",
    "\n",
    "```java\n",
    "Stack<Integer> stack = new Stack<>();\n",
    "stack.push(1);\n",
    "```"
   ]
  },
  {
   "cell_type": "markdown",
   "metadata": {},
   "source": [
    "# Queues"
   ]
  },
  {
   "cell_type": "markdown",
   "metadata": {},
   "source": [
    "## `java.util.Queue` 接口"
   ]
  },
  {
   "cell_type": "markdown",
   "metadata": {},
   "source": [
    "Type\t|Method | Description\n",
    " :-:|:-:|:-\n",
    "boolean|\t`add(E e)` |Inserts the specified element into this queue if it is possible to do so without violating capacity restrictions, returning true upon success and throwing an IllegalStateException if no space is currently available.\n",
    "E\t|`element()`| Retrieves, but does not remove, the __head__ of this queue.\n",
    "boolean|`offer(E e)`| Inserts the specified element into this queue if it is possible to do so immediately without violating capacity restrictions.\n",
    "E\t|`peek()`|Retrieves, but does not remove, the head of this queue, or returns null if this queue is empty.\n",
    "E\t|`poll()`|Retrieves and removes the head of this queue, or returns null if this queue is empty.\n",
    "E\t|`remove()`|Retrieves and removes the head of this queue."
   ]
  },
  {
   "cell_type": "markdown",
   "metadata": {},
   "source": [
    "## 实例化\n",
    "```java\n",
    "//因为是接口，所以不能直接实例化\n",
    "import java.util.Queue;\n",
    "import java.util.LinkedList;\n",
    "import java.util.ArrayDeque;\n",
    "\n",
    "//可以有多种选择\n",
    "Queue<Integer> q = new LinkedList<Integer>();\n",
    "Queue<Integer> q = new ArrayDeque<Integer>();\n",
    "\n",
    "```"
   ]
  },
  {
   "cell_type": "markdown",
   "metadata": {},
   "source": [
    "# Deques\n",
    "## `java.util.Deque`\n",
    "\n",
    "<img src='./pics/deque.jpg', width=400>"
   ]
  },
  {
   "cell_type": "markdown",
   "metadata": {
    "collapsed": true
   },
   "source": [
    "## 实例化\n",
    "\n",
    "```java\n",
    "import java.util.Deque;\n",
    "import java.util.ArrayDeque;\n",
    "import java.util.LinkedList;\n",
    "\n",
    "//因为是接口，所以不能直接实例化\n",
    "//可以有多种选择\n",
    "Deque<Integer> q = new ArrayDeque<Integer>();\n",
    "Deque<Integer> q = new LinkedList<Integer>();\n",
    "```\n"
   ]
  }
 ],
 "metadata": {
  "kernelspec": {
   "display_name": "Python [default]",
   "language": "python",
   "name": "python2"
  },
  "language_info": {
   "codemirror_mode": {
    "name": "ipython",
    "version": 2
   },
   "file_extension": ".py",
   "mimetype": "text/x-python",
   "name": "python",
   "nbconvert_exporter": "python",
   "pygments_lexer": "ipython2",
   "version": "2.7.13"
  },
  "toc": {
   "colors": {
    "hover_highlight": "#DAA520",
    "running_highlight": "#FF0000",
    "selected_highlight": "#FFD700"
   },
   "moveMenuLeft": true,
   "nav_menu": {
    "height": "159px",
    "width": "251px"
   },
   "navigate_menu": true,
   "number_sections": true,
   "sideBar": true,
   "threshold": 4,
   "toc_cell": false,
   "toc_section_display": "block",
   "toc_window_display": true
  }
 },
 "nbformat": 4,
 "nbformat_minor": 2
}
