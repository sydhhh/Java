{
 "cells": [
  {
   "cell_type": "markdown",
   "metadata": {},
   "source": [
    "# The List ADT\n",
    "- 第六章我们讲了Stack, Queue, and Deque, 但不能处理任意位置的元素，而List接口可以满足这个要求\n",
    "    - <font color='red'>__感觉这应该就是python里面的list__</font>"
   ]
  },
  {
   "cell_type": "markdown",
   "metadata": {},
   "source": [
    "## `java.util.List`\n",
    "<img src='./pics/list.jpg', width=400>\n",
    "\n",
    "## 实例化：见下一节"
   ]
  },
  {
   "cell_type": "markdown",
   "metadata": {},
   "source": [
    "# Array Lists\n",
    "- 注意，`List`还是接口，需要类来实现，最直观的就是用ArrayList"
   ]
  },
  {
   "cell_type": "markdown",
   "metadata": {},
   "source": [
    "## `java.util.ArrayList`"
   ]
  },
  {
   "cell_type": "markdown",
   "metadata": {},
   "source": [
    "## List的实例化\n",
    "\n",
    "```java\n",
    "import java.util.ArrayList;\n",
    "import java.util.List;\n",
    "import java.util.LinkedList;\n",
    "\n",
    "//多种方式实现\n",
    "List<Integer> q = new ArrayList<>();\n",
    "List<Integer> q = new LinkedList<>();\n",
    "\n",
    "//注意这个用法：有人认为这样不好\n",
    "ArrayList<Integer> q = new ArrayList<>();\n",
    "\n",
    "```\n",
    "\n",
    "- 如果`List = new ArrayList`的话，那么q只能使用List独有的方法：\n",
    "    - 有的人认为这样很好，如果这个List需要用LinkedList实现的话改一行就可以了，不然后面使用ArrayList的独有方法行都得改。\n",
    "> OO准则：Program to an interface, not to a concrete implementation.\n",
    "    - <font color='red'>但是，最为local variable的话，就使用`ArrayList = new ArrayList;`</font>"
   ]
  },
  {
   "cell_type": "markdown",
   "metadata": {},
   "source": [
    "# Iterators\n",
    "## `java.util.Iterator`\n",
    "\n",
    "\n",
    "Type |\tMethod | Description\n",
    ":-:|:-:|:-\n",
    "boolean\t|`hasNext()`|Returns true if the iteration has more elements.\n",
    "E|\t`next()`|Returns the next element in the iteration.\n",
    "void|\t`remove()`|Removes from the underlying collection the last element returned by this iterator (optional operation)."
   ]
  },
  {
   "cell_type": "markdown",
   "metadata": {},
   "source": [
    "## 用法\n",
    "- 一般不直接用，就用在for each里面（:）\n",
    "```java\n",
    "for(String obj : books)\n",
    "```"
   ]
  },
  {
   "cell_type": "markdown",
   "metadata": {},
   "source": [
    "# <font color='red'>The Java Collections Framework</font>\n",
    "- Java 提供了许多数据结构的接口和类，合在一起就叫\n",
    "Java Collections Framework.\n",
    "![](./pics/collectionsImpl.png)"
   ]
  },
  {
   "cell_type": "markdown",
   "metadata": {},
   "source": [
    "## Interface (不止4种)\n",
    "Interface| Ordered| Dupes| Notes\n",
    ":-:|:-:|:-:|:-:\n",
    "List |Yes| Yes| Positional access; element insertion control\n",
    "Queue| Yes |Yes| Holds elements; usually FIFO\n",
    "Set |Can be |No| Uniqueness matters\n",
    "Map |Can be |No (Keys)| Unique keys; one value mapping max per key"
   ]
  },
  {
   "cell_type": "markdown",
   "metadata": {},
   "source": [
    "## Implementations（就是Class）（也不止这么多）\n",
    "Implementations| Interface| Ordered| Sorted| Dupes| Notes\n",
    ":-:|:-:|:-:|:-:|:-:|:-\n",
    "ArrayList| List| Index| No| Yes| Fast resizable array\n",
    "LinkedList| List| Index| No| Yes| Doubly linked list\n",
    "Vector| List| Index| No| Yes| __Legacy__, synchronized\n",
    "HashMap| Map| No| No| No| Key/value pairs\n",
    "Hashtable| Map| No| No| No| __Legacy__, synchronized\n",
    "LinkedHashMap| Map| Insertion, last access| No| No| Linked list/hash table\n",
    "TreeMap| Map| Balanced| Yes| No| Red-black tree map\n",
    "PriorityQueue| Queue| Priority| Yes| Yes| Heap implementation\n",
    "HashSet| Set| No| No| No| Fast access set\n",
    "LinkedHashSet| Set| Insertion| No| No| Linked list/hash set\n",
    "TreeSet| Set| Sorted| Yes| No| Red-black tree set"
   ]
  },
  {
   "cell_type": "markdown",
   "metadata": {},
   "source": [
    "## Methods\n",
    "Method| List params| Set params| Map params| Returns\n",
    ":-:|:-:|:-:|:-:|:-:\n",
    "add| index, element| element| n/a| boolean\n",
    "contains |Object| Object| n/a| boolean\n",
    "containsKey| n/a| n/a |key| boolean\n",
    "containsValue |n/a| n/a| value |boolean\n",
    "get |index| n/a |key| Object\n",
    "indexOf| Object |n/a |n/a |int\n",
    "iterator |none| none| n/a |Iterator\n",
    "keySet |n/a| n/a |none |Set\n",
    "put| n/a| n/a| key, value| void\n",
    "remove |index or Object |Object |key |void\n",
    "size| none |none| none| int"
   ]
  },
  {
   "cell_type": "markdown",
   "metadata": {},
   "source": [
    "## Algorithms\n",
    "- The `Collections class`, not to be confused with the `Collection interface`, contains several valuable static methods (e.g., algorithms).\n",
    "\n",
    "Method |Parameters| Returns\n",
    ":-:|:-|:-:\n",
    "addAll |Collection <? super T>, T…| boolean\n",
    "max| Collection, [Comparator] |`<T>`\n",
    "min| Collection, [Comparator] |`<T>`\n",
    "disjoint| Collection, Collection |boolean\n",
    "frequency| Collection, Object| int\n",
    "asLifoQueue| Deque |Queue`<T>`\n",
    "reverse |List |void\n",
    "shuffle |List |void\n",
    "copy |List destination, List source| void\n",
    "rotate| List, int distance |void\n",
    "swap |List, int position, int position |void\n",
    "binarySearch| List, Object |int\n",
    "fill |List, Object |void\n",
    "sort |List, Object, [Comparator] |void\n",
    "replaceAll| List, Object oldValue, Object newValue| boolean\n",
    "newSetFromMap| Map| Set`<E>`"
   ]
  },
  {
   "cell_type": "markdown",
   "metadata": {},
   "source": [
    "## Algorithm Efficiencies\n",
    "- Algorithms and data structures are optimized for different reasons, \n",
    "some for random element access or insertion/deletion,\n",
    "others for keeping things in order. Depending on your needs, you\n",
    "may have to switch algorithms and structures.\n",
    "\n",
    "Algorithms| Concrete type| Time\n",
    ":-:|:-:|:-:\n",
    "get, set| ArrayList| O(1)\n",
    "add, remove |ArrayList |O(n)\n",
    "contains, indexOf| ArrayList| O(n)\n",
    "get, put, remove, containsKey |HashMap| O(1)\n",
    "add, remove, contains |HashSet| O(1)\n",
    "add, remove, contains| LinkedHashSet |O(1)\n",
    "get, set, add, remove (from either end) |LinkedList| O(1)\n",
    "get, set, add, remove (from index) |LinkedList| O(n)\n",
    "contains, indexOf |LinkedList |O(n)\n",
    "peek |PriorityQueue| O(1)\n",
    "add, remove| PriorityQueue| O(log n)\n",
    "remove, get, put, containsKey| TreeMap| O(log n)\n",
    "add, remove, contains |TreeSet| O(log n)"
   ]
  }
 ],
 "metadata": {
  "kernelspec": {
   "display_name": "Python [default]",
   "language": "python",
   "name": "python2"
  },
  "language_info": {
   "codemirror_mode": {
    "name": "ipython",
    "version": 2
   },
   "file_extension": ".py",
   "mimetype": "text/x-python",
   "name": "python",
   "nbconvert_exporter": "python",
   "pygments_lexer": "ipython2",
   "version": "2.7.13"
  },
  "toc": {
   "colors": {
    "hover_highlight": "#DAA520",
    "running_highlight": "#FF0000",
    "selected_highlight": "#FFD700"
   },
   "moveMenuLeft": true,
   "nav_menu": {
    "height": "302px",
    "width": "251px"
   },
   "navigate_menu": true,
   "number_sections": true,
   "sideBar": true,
   "threshold": 4,
   "toc_cell": false,
   "toc_section_display": "block",
   "toc_window_display": true
  }
 },
 "nbformat": 4,
 "nbformat_minor": 2
}
