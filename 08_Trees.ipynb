{
 "cells": [
  {
   "cell_type": "markdown",
   "metadata": {},
   "source": [
    "# General Trees\n",
    "- One of the most important __nonlinear__ data structures in\n",
    "computing: \n",
    "    - ___trees___\n",
    "        - __hierarchical__"
   ]
  },
  {
   "cell_type": "markdown",
   "metadata": {},
   "source": [
    "## Tree Definitions and Properties\n",
    "- A __tree__ is an abstract data type that stores elements hierarchically.\n",
    "    - root\n",
    "    - parent\n",
    "    - children"
   ]
  },
  {
   "cell_type": "markdown",
   "metadata": {},
   "source": [
    "# Binary Trees\n",
    "- A binary tree is an ordered tree with the following properties:\n",
    "    1. Every node has at most two children.\n",
    "    2. Each child node is labeled as being either a __left child__ or a __right child.__\n",
    "    3. A left child precedes a right child in the order of children of a node. (不管怎样都得先左再右孩子)"
   ]
  },
  {
   "cell_type": "markdown",
   "metadata": {},
   "source": [
    "# <font color='red'>Implementing Trees</font>"
   ]
  },
  {
   "cell_type": "markdown",
   "metadata": {},
   "source": [
    "## Linked Structure for Binary Trees\n",
    "- Leetcode 上就是这样定义的：\n",
    "<img src=\"./pics/bt.jpg\",width=700>"
   ]
  },
  {
   "cell_type": "markdown",
   "metadata": {},
   "source": [
    "```java\n",
    "public class TreeNode {\n",
    "     public int val;\n",
    "     public TreeNode left, right;\n",
    "     public TreeNode(int val) { //构造器，无返回类型\n",
    "         this.val = val;\n",
    "         this.left = this.right = null;\n",
    "     }\n",
    "}\n",
    "```\n",
    "\n",
    "```python\n",
    "class TreeNode:\n",
    "    def __init__(self, val):\n",
    "        this.val = val\n",
    "        this.left, this.right = None, None\n",
    "        ```\n",
    "- Performance of the __linked__ structure implementation of a binary tree.        \n",
    "<img src=\"./pics/bt2.jpg\",width=500>"
   ]
  },
  {
   "cell_type": "markdown",
   "metadata": {},
   "source": [
    "## Array-Based Representation of a Binary Tree\n",
    "- $f(p)$就是在Array里的位置：\n",
    "    - If $p$ is the root of $T$, then $f(p) = 0$.\n",
    "    - If $p$ is the left child of position $q$, then $f(p) = 2 f (q)+1$.\n",
    "    - If $p$ is the right child of position $q$, then $f(p) = 2 f (q)+2$.\n",
    "        - $f(q) = (f(p)-1)/2$\n",
    "    \n",
    "    <img src=\"./pics/at.jpg\",width=500>"
   ]
  },
  {
   "cell_type": "markdown",
   "metadata": {},
   "source": [
    "- 好处就在于上面那些公式，可以很方便找到children的位置\n",
    "- 坏处：\n",
    "    - Space: 很明显，Array里面可能会有许多空的位置。\n",
    "        - 除非是Complete Binary Tree, 这样的话有多少节点这个Array就有多大。\n",
    "    - 更新节点很困难，是$O(n)$的复杂度。<font color='red'>（感觉就是Array和Linked List之间的优劣比较嘛！）</font>"
   ]
  },
  {
   "cell_type": "markdown",
   "metadata": {},
   "source": [
    "# Tree Traversal Algorithms"
   ]
  },
  {
   "cell_type": "markdown",
   "metadata": {},
   "source": [
    "## DFS:\n",
    "- Pre-order：General Trees，递归\n",
    "<img src=\"./pics/pre.jpg\",width=500>\n",
    "\n",
    "- Post-order：General Trees，递归\n",
    "<img src=\"./pics/post.jpg\",width=500>\n",
    "\n",
    "- In-order：只能Binary Trees，递归\n",
    "<img src=\"./pics/in.jpg\",width=500>\n",
    "\n",
    "\n",
    "## BFS\n",
    "- Level-order：General Trees，__非递归__\n",
    "    - 使用Queue实现\n",
    "<img src=\"./pics/bfs.jpg\",width=500>\n"
   ]
  },
  {
   "cell_type": "code",
   "execution_count": null,
   "metadata": {
    "collapsed": true
   },
   "outputs": [],
   "source": []
  }
 ],
 "metadata": {
  "kernelspec": {
   "display_name": "Python [default]",
   "language": "python",
   "name": "python2"
  },
  "language_info": {
   "codemirror_mode": {
    "name": "ipython",
    "version": 2
   },
   "file_extension": ".py",
   "mimetype": "text/x-python",
   "name": "python",
   "nbconvert_exporter": "python",
   "pygments_lexer": "ipython2",
   "version": "2.7.13"
  },
  "toc": {
   "colors": {
    "hover_highlight": "#DAA520",
    "running_highlight": "#FF0000",
    "selected_highlight": "#FFD700"
   },
   "moveMenuLeft": true,
   "nav_menu": {
    "height": "154px",
    "width": "251px"
   },
   "navigate_menu": true,
   "number_sections": true,
   "sideBar": true,
   "threshold": 4,
   "toc_cell": false,
   "toc_section_display": "block",
   "toc_window_display": true
  }
 },
 "nbformat": 4,
 "nbformat_minor": 2
}
