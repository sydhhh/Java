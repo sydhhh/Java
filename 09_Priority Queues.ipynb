{
 "cells": [
  {
   "cell_type": "markdown",
   "metadata": {},
   "source": [
    "# The Priority Queue Abstract Data Type\n",
    "- 优先队列是Queue的变种，每次pop的是优先级最高的。\n",
    "- 最常见的方法使用Binary Heap来实现\n",
    "\n",
    "    \n",
    "<img src='./pics/pq.jpg',width=400>"
   ]
  },
  {
   "cell_type": "markdown",
   "metadata": {},
   "source": [
    "# Heaps\n",
    "- This data structure allows us to perform both insertions and removals in __logarithmic time__.\n",
    "\n",
    "\n",
    "- Binary Heap：\n",
    "    - 如果从树的角度（Linked Nodes）看，children要大于等于它们的parent，所以root是整棵树最小的。\n",
    "        - 同时为了让高度最小，所以必须是complete完全二叉树。\n",
    "        - $h = log(n)$\n",
    "    - 从Array的角度看，因为是完全二叉树，所以Array里面没有空的元素。同时算是局部有序，第一个元素即root一定是最小的。"
   ]
  },
  {
   "cell_type": "markdown",
   "metadata": {},
   "source": [
    "## Implementing a Priority Queue with a Heap\n",
    "### Up Bubbling After an Insertion\n",
    "- 先加到树的最后，然后调整位置\n",
    "    <img src='./pics/insert.jpg',width=800>"
   ]
  },
  {
   "cell_type": "markdown",
   "metadata": {},
   "source": [
    "    \n",
    "### Down Bubbling After a Removal\n",
    "- 去掉root，然后调整位置\n",
    "    <img src='./pics/delete.jpg',width=800>"
   ]
  },
  {
   "cell_type": "markdown",
   "metadata": {},
   "source": [
    "### Array-Based Representation of a Complete Binary Tree\n",
    "- 前面讲的都是Linked的方式实现的，而如果从Array的角度来看，因为插入时先放到最后，而使用Array的话Index比较方便。\n",
    "    <img src='./pics/heap2.jpg',width=600>"
   ]
  },
  {
   "cell_type": "markdown",
   "metadata": {},
   "source": [
    "## `java.util.PriorityQueue`\n",
    "- 这是一个class，不是接口\n",
    "    - 接口当然是`java.util.Queue`啦\n",
    "        \n",
    "    <img src='./pics/pq2.jpg',width=250>"
   ]
  }
 ],
 "metadata": {
  "kernelspec": {
   "display_name": "Python [default]",
   "language": "python",
   "name": "python2"
  },
  "language_info": {
   "codemirror_mode": {
    "name": "ipython",
    "version": 2
   },
   "file_extension": ".py",
   "mimetype": "text/x-python",
   "name": "python",
   "nbconvert_exporter": "python",
   "pygments_lexer": "ipython2",
   "version": "2.7.13"
  },
  "toc": {
   "colors": {
    "hover_highlight": "#DAA520",
    "running_highlight": "#FF0000",
    "selected_highlight": "#FFD700"
   },
   "moveMenuLeft": true,
   "nav_menu": {
    "height": "154px",
    "width": "251px"
   },
   "navigate_menu": true,
   "number_sections": true,
   "sideBar": true,
   "threshold": 4,
   "toc_cell": false,
   "toc_position": {
    "height": "558px",
    "left": "0px",
    "right": "1096.31px",
    "top": "106px",
    "width": "256px"
   },
   "toc_section_display": "block",
   "toc_window_display": true
  }
 },
 "nbformat": 4,
 "nbformat_minor": 2
}
