{
 "cells": [
  {
   "cell_type": "markdown",
   "metadata": {
    "collapsed": true
   },
   "source": [
    "# Maps\n",
    "- < key, vale> pair."
   ]
  },
  {
   "cell_type": "markdown",
   "metadata": {},
   "source": [
    "## `java.util.Map`\n",
    "\n",
    "Type\t| Method | Description\n",
    ":-:|:-:|:-:\n",
    "void\t|`clear()`|Removes all of the mappings from this map (optional operation).\n",
    "boolean|\t`containsKey(Object key)`|Returns true if this map contains a mapping for the specified key.\n",
    "boolean\t|`containsValue(Object value)` |Returns true if this map maps one or more keys to the specified value.\n",
    "Set `<Map.Entry<K,V>>` |\t`entrySet()` |Returns a Set view of the mappings contained in this map.\n",
    "boolean\t|`equals(Object o)`| Compares the specified object with this map for equality.\n",
    "V\t|`get(Object key)`|Returns the value to which the specified key is mapped, or null if this map contains no mapping for the key.\n",
    "int\t|`hashCode()`|Returns the hash code value for this map.\n",
    "boolean|\t`isEmpty()`| Returns true if this map contains no key-value mappings.\n",
    "Set`<K>`\t|`keySet()`| Returns a Set view of the keys contained in this map.\n",
    "V\t|`put(K key, V value)`| Associates the specified value with the specified key in this map (optional operation).\n",
    "void|\t`putAll(Map`<? extends K,? extends V> `m)`|Copies all of the mappings from the specified map to this map (optional operation).\n",
    "V\t|`remove(Object key)`|Removes the mapping for a key from this map if it is present (optional operation).\n",
    "int|\t`size()`|Returns the number of key-value mappings in this map.\n",
    "Collection`<V>`\t|`values()`|Returns a Collection view of the values contained in this map."
   ]
  },
  {
   "cell_type": "markdown",
   "metadata": {},
   "source": [
    "## 实例化\n",
    "\n",
    "```java\n",
    "//----------------------------------\n",
    "Map<Integer,Integer> q = new HashMap<>(); \n",
    "//----------------------------------\n",
    "\n",
    "```\n",
    "\n"
   ]
  },
  {
   "cell_type": "markdown",
   "metadata": {},
   "source": [
    "# Hash Tables\n",
    "## `java.util.HashMap`"
   ]
  },
  {
   "cell_type": "markdown",
   "metadata": {},
   "source": [
    "# Sets, Multisets, and Multimaps"
   ]
  },
  {
   "cell_type": "markdown",
   "metadata": {},
   "source": [
    "## `java.util.Set`\n",
    "## `java.util.HashSet`\n",
    "\n",
    "## 实例化\n",
    "\n",
    "```java\n",
    "//----------------------------------\n",
    "Set<Integer> q = new HashSet<>();\n",
    "//----------------------------------\n",
    "```"
   ]
  }
 ],
 "metadata": {
  "kernelspec": {
   "display_name": "Python [default]",
   "language": "python",
   "name": "python2"
  },
  "language_info": {
   "codemirror_mode": {
    "name": "ipython",
    "version": 2
   },
   "file_extension": ".py",
   "mimetype": "text/x-python",
   "name": "python",
   "nbconvert_exporter": "python",
   "pygments_lexer": "ipython2",
   "version": "2.7.13"
  },
  "toc": {
   "colors": {
    "hover_highlight": "#DAA520",
    "running_highlight": "#FF0000",
    "selected_highlight": "#FFD700"
   },
   "moveMenuLeft": true,
   "nav_menu": {
    "height": "11px",
    "width": "251px"
   },
   "navigate_menu": true,
   "number_sections": true,
   "sideBar": true,
   "threshold": 4,
   "toc_cell": false,
   "toc_section_display": "block",
   "toc_window_display": true
  }
 },
 "nbformat": 4,
 "nbformat_minor": 2
}
