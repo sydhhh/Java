{
 "cells": [
  {
   "cell_type": "markdown",
   "metadata": {},
   "source": [
    "# Merge-Sort"
   ]
  },
  {
   "cell_type": "markdown",
   "metadata": {},
   "source": [
    "## Divide-and-Conquer\n",
    "1. __Divide__: If the input size is smaller than a certain threshold (say, one or two\n",
    "elements), solve the problem directly using a straightforward method and\n",
    "return the solution so obtained. Otherwise, divide the input data into two or\n",
    "more disjoint subsets.\n",
    "2. __Conquer__: Recursively solve the subproblems associated with the subsets.\n",
    "3. __Combine__: Take the solutions to the subproblems and merge them into a solution\n",
    "to the original problem."
   ]
  },
  {
   "cell_type": "markdown",
   "metadata": {},
   "source": [
    "## 图示\n",
    "- 核心思想就是每次都二分，分到只剩1个或0个时完成；\n",
    "    - 然后Merge那一步写出来比较长，两两sorted的subarray进行归并。\n",
    "    \n",
    "- 虚线框表示没有做到那一步\n",
    "\n",
    "<img src='./pics/ms1.jpg', width=500>\n",
    "<img src='./pics/ms2.jpg', width=500>\n",
    "<img src='./pics/ms3.jpg', width=500>\n"
   ]
  },
  {
   "cell_type": "markdown",
   "metadata": {},
   "source": [
    "## The Running Time of Merge-Sort\n",
    "<img src='./pics/ms4.jpg', width=500>\n"
   ]
  },
  {
   "cell_type": "markdown",
   "metadata": {},
   "source": [
    "# Quick-Sort\n",
    "## Divide-and-Conquer\n",
    "1.Divide: If S has at least two elements (nothing needs to be done if S has\n",
    "zero or one element), select a specific element x from S, which is called the\n",
    "__pivot__. As is common practice, choose the pivot x to be the last element in S.\n",
    "Remove all the elements from S and put them into three sequences:\n",
    "- L, storing the elements in S less than x\n",
    "- E, storing the elements in S equal to x\n",
    "- G, storing the elements in S greater than x\n",
    "    - Of course, if the elements of S are distinct, then E holds just one element—\n",
    "the pivot itself.\n",
    "\n",
    "2.__Conquer__: Recursively sort sequences L and G.\n",
    "\n",
    "3.__Combine__: Put back the elements into S in order by first inserting the elements\n",
    "of L, then those of E, and finally those of G.\n",
    "\n",
    "\n",
    "<img src='./pics/qs1.jpg', width=350>\n"
   ]
  },
  {
   "cell_type": "markdown",
   "metadata": {},
   "source": [
    "## 图示\n",
    "- 和归并排序不同，因为每次不是严格二分，所以递归的深度不是严格的$logn$，最坏的情况是$n$，所以总的复杂度最坏会退化到 $n^2$\n",
    "    - 但是归并排序需要额外的$O(n)$来执行Merge的操作，快排就不需要额外空间。\n",
    "    - 归并是稳定排序，而快排不是。\n",
    "\n",
    "\n",
    "- 下面的图示中选最后一个数为pivot.\n",
    "\n",
    "<img src='./pics/qs2.jpg', width=500>\n",
    "<img src='./pics/qs3.jpg', width=500>\n",
    "<img src='./pics/qs4.jpg', width=500>\n"
   ]
  },
  {
   "cell_type": "markdown",
   "metadata": {},
   "source": [
    "## Randomized Quick-Sort\n",
    "- 最好的情况就是 the pivot will always\n",
    "divide the sequence in a reasonably balanced manner.\n",
    "    - 那就是严格的$O(nlogn)$了\n",
    "    \n",
    "- 随机选择：可以证明期望值就是$O(nlogn)$"
   ]
  },
  {
   "cell_type": "markdown",
   "metadata": {},
   "source": [
    "## Additional Optimizations for Quick-Sort\n",
    "- Pivot Selection\n",
    "    - 还可以选择Pivot为front, mid, and tail的中位数，这样往往比随机选择pivot更好。\n",
    "- Hybrid Approaches\n",
    "    - 当SubArray中的元素很少时，比如少于20个，可以用基本算法insertion sort之类的来解决，要快一些。"
   ]
  },
  {
   "cell_type": "markdown",
   "metadata": {},
   "source": [
    "# Linear-Time Sorting: Bucket-Sort and Radix-Sort\n",
    "- 跳过"
   ]
  },
  {
   "cell_type": "markdown",
   "metadata": {},
   "source": [
    "# Selection\n",
    "\n",
    "- 选择算法就是找第$k$小的那个元素\n",
    "    - 当然我们可以直接排序，一般就是$O(nlogn)$\n",
    "    - 明显是做多了\n",
    "\n",
    "- 因此，我们希望可以用 $O(n)$ 的时间来找到all values of $k$, 尤其是找中位数 $k = ⌊n/2⌋$ 的问题。\n"
   ]
  },
  {
   "cell_type": "markdown",
   "metadata": {},
   "source": [
    "## Prune-and-Search思想\n",
    "- 也叫做decrease and conquer. 减治法\n",
    "\n",
    "- A recursive procedure in which at each step the input size is reduced (\"pruned\") by a constant factor $0 < p < 1$.\n",
    "    - 因此二分法也可以看作是减治法。"
   ]
  },
  {
   "cell_type": "markdown",
   "metadata": {},
   "source": [
    "## Randomized Quick-Select\n",
    "- 最简单的实现Prune-and-Search的思想的算法就是这个：$O(n)$\n",
    "    - 核心思想就是快排的思想\n",
    "\n",
    "<img src='./pics/qse.jpg',width=500>"
   ]
  },
  {
   "cell_type": "markdown",
   "metadata": {},
   "source": [
    "## Deterministic selection\n",
    "- 上面那种方式明显最坏情况也是$O(n^2)$\n",
    "    - 但是Deterministic selection 可以有 $O(n)$ worst-case\n",
    "    - 看起来很好，其实这个$O(n)$里面隐藏的常数项很大。\n",
    "    \n",
    "- 算法就先跳过。"
   ]
  }
 ],
 "metadata": {
  "kernelspec": {
   "display_name": "Python [default]",
   "language": "python",
   "name": "python2"
  },
  "language_info": {
   "codemirror_mode": {
    "name": "ipython",
    "version": 2
   },
   "file_extension": ".py",
   "mimetype": "text/x-python",
   "name": "python",
   "nbconvert_exporter": "python",
   "pygments_lexer": "ipython2",
   "version": "2.7.13"
  },
  "toc": {
   "colors": {
    "hover_highlight": "#DAA520",
    "running_highlight": "#FF0000",
    "selected_highlight": "#FFD700"
   },
   "moveMenuLeft": true,
   "nav_menu": {
    "height": "30px",
    "width": "251px"
   },
   "navigate_menu": true,
   "number_sections": true,
   "sideBar": true,
   "threshold": 4,
   "toc_cell": false,
   "toc_section_display": "block",
   "toc_window_display": true
  }
 },
 "nbformat": 4,
 "nbformat_minor": 2
}
