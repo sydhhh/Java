{
 "cells": [
  {
   "cell_type": "markdown",
   "metadata": {
    "collapsed": true
   },
   "source": [
    "# Trie\n",
    "- A trie (pronounced `try`) is a tree-based data structure for storing strings in\n",
    "order to support __fast pattern matching__. \n",
    "    - The main application for tries is in information\n",
    "retrieval.\n",
    "    - The primary query operations that tries support are __pattern matching__ and\n",
    "__prefix matching__.\n"
   ]
  },
  {
   "cell_type": "markdown",
   "metadata": {},
   "source": [
    "## Standard Tries\n",
    "\n",
    "<img src='./pics/trie1.jpg', width=600>\n",
    "\n",
    "- Word matching with a standard trie:\n",
    "    - Stop words 自动排除\n",
    "\n",
    "<img src='./pics/trie2.jpg', width=600>\n"
   ]
  },
  {
   "cell_type": "markdown",
   "metadata": {},
   "source": [
    "## Compressed Tries\n",
    "- A compressed trie is similar to a standard trie but it ensures that each internal node\n",
    "in the trie has ___at least two children___. \n",
    "    - It enforces this rule by compressing chains of\n",
    "single-child nodes into individual edges.\n",
    "\n",
    "<img src='./pics/trie3.jpg', width=600>\n",
    "\n",
    "- __Auxiliary__ index structure\n",
    "\n",
    "<img src='./pics/trie4.jpg', width=600>\n"
   ]
  },
  {
   "cell_type": "markdown",
   "metadata": {},
   "source": [
    "## Suffix Tries\n",
    "- When the strings in the collection $S$ are all the suffixes of a string $X$. \n",
    "    - Such a trie is called the __suffix trie__\n",
    "    \n",
    "<img src='./pics/trie5.jpg', width=600>\n",
    "\n",
    "- The suffix trie `T` for a string `X` can be used to efficiently perform pattern-matching\n",
    "queries on text `X`. \n",
    "    - Namely, we can determine whether a pattern is a substring of X\n",
    "by trying to trace a path associated with `P` in `T`."
   ]
  },
  {
   "cell_type": "markdown",
   "metadata": {},
   "source": [
    "# Text Compression and the Greedy Method\n",
    "## The Huffman Coding Algorithm\n",
    "\n",
    "<img src='./pics/huff.jpg', width=600>\n"
   ]
  },
  {
   "cell_type": "markdown",
   "metadata": {},
   "source": [
    "## The Greedy Method\n",
    "- Huffman 就是贪心算法\n",
    "\n",
    "\n",
    "- We iteratively make additional choices\n",
    "by identifying the decision that achieves the best cost improvement from all of\n",
    "the choices that are currently possible. \n",
    "    - This approach does not always lead to an\n",
    "optimal solution.\n",
    "    - 但是，也有一些情况可以让局部最优到全局最优，这种性质叫作greedy-choice property.\n",
    "        - Hiffman编码算法就满足。"
   ]
  },
  {
   "cell_type": "markdown",
   "metadata": {},
   "source": [
    "# Dynamic Programming\n",
    "- 动态编程一般可以产生polynomial-time algorithms 来解决那些看起来需要exponential time的算法\n",
    "    - 一般要有一个矩阵，然后去填充它。\n",
    "    \n",
    "<img src='./pics/dp.jpg', width=600>\n"
   ]
  }
 ],
 "metadata": {
  "kernelspec": {
   "display_name": "Python [default]",
   "language": "python",
   "name": "python2"
  },
  "language_info": {
   "codemirror_mode": {
    "name": "ipython",
    "version": 2
   },
   "file_extension": ".py",
   "mimetype": "text/x-python",
   "name": "python",
   "nbconvert_exporter": "python",
   "pygments_lexer": "ipython2",
   "version": "2.7.13"
  },
  "toc": {
   "colors": {
    "hover_highlight": "#DAA520",
    "running_highlight": "#FF0000",
    "selected_highlight": "#FFD700"
   },
   "moveMenuLeft": true,
   "nav_menu": {
    "height": "11px",
    "width": "251px"
   },
   "navigate_menu": true,
   "number_sections": true,
   "sideBar": true,
   "threshold": 4,
   "toc_cell": false,
   "toc_section_display": "block",
   "toc_window_display": true
  }
 },
 "nbformat": 4,
 "nbformat_minor": 2
}
