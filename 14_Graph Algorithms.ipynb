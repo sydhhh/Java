{
 "cells": [
  {
   "cell_type": "markdown",
   "metadata": {
    "collapsed": true
   },
   "source": [
    "# Data Structures for Graphs(4种)\n",
    "\n",
    "<img src='./pics/g1.jpg',width=550>"
   ]
  },
  {
   "cell_type": "markdown",
   "metadata": {},
   "source": [
    "## Edge List Structure\n",
    "- The edge list structure is possibly the simplest, though not the most efficient, representation\n",
    "of a graph G. \n",
    "    - All vertex objects are stored in an unordered list `V`, and\n",
    "all edge objects are stored in an unordered list `E`.\n",
    "    - 就是说V和E是单独的俩list.\n",
    "<img src='./pics/g2.jpg',width=500>"
   ]
  },
  {
   "cell_type": "markdown",
   "metadata": {},
   "source": [
    "## Adjacency List Structure\n",
    "- The adjacency list structure for a graph adds extra information to the edge list structure\n",
    "that supports direct access to the incident edges (and thus to the adjacent vertices)\n",
    "of each vertex.\n",
    "- 就是说只有一个list，里面包含的点和它出发的边。\n",
    "\n",
    "<img src='./pics/g3.jpg',width=550>"
   ]
  },
  {
   "cell_type": "markdown",
   "metadata": {},
   "source": [
    "## Adjacency Map Structure\n",
    "\n",
    "- 这个是最好的，lintcode的答案里面也是这样写的：\n",
    "\n",
    "```java\n",
    "Map<Integer, Set<Integer>> graph = new HashMap<>();\n",
    "```\n",
    "<img src='./pics/g4.jpg',width=550>"
   ]
  },
  {
   "cell_type": "markdown",
   "metadata": {},
   "source": [
    "## Adjacency Matrix Structure\n",
    "\n",
    "- 看起来很直观，但是非常糟糕\n",
    "\n",
    "<img src='./pics/g5.jpg',width=550>"
   ]
  },
  {
   "cell_type": "markdown",
   "metadata": {},
   "source": [
    "# Graph Traversals\n"
   ]
  },
  {
   "cell_type": "markdown",
   "metadata": {},
   "source": [
    "## DFS\n",
    "\n",
    "<img src='./pics/dfs.jpg',width=600>"
   ]
  },
  {
   "cell_type": "markdown",
   "metadata": {},
   "source": [
    "## BFS"
   ]
  },
  {
   "cell_type": "markdown",
   "metadata": {},
   "source": [
    "# Directed Acyclic Graphs\n",
    "- 应用：主要是解决依赖问题\n",
    "    - Prerequisites between courses of an academic program.\n",
    "    - Inheritance between classes of an object-oriented program.\n",
    "    - Scheduling constraints between the tasks of a project.\n",
    "    \n",
    "- Topological sorting：拓扑排序\n",
    "    - 就是找这样一个满足依赖的顺序走完整个图"
   ]
  },
  {
   "cell_type": "markdown",
   "metadata": {},
   "source": [
    "# Shortest Paths\n",
    "## Dijkstra’s Algorithm\n",
    "<img src='./pics/dij.jpg',width=600>"
   ]
  },
  {
   "cell_type": "markdown",
   "metadata": {},
   "source": [
    "# Minimum Spanning Trees（最小生成树）\n",
    "- Spanning Tree：包含所有Vertex\n",
    "    - 最小生成树：这个树有 smallest total weight\n",
    "    "
   ]
  },
  {
   "cell_type": "markdown",
   "metadata": {},
   "source": [
    "## Prim-Jarn´ık Algorithm"
   ]
  },
  {
   "cell_type": "markdown",
   "metadata": {},
   "source": [
    "## Kruskal's Algorithm"
   ]
  },
  {
   "cell_type": "markdown",
   "metadata": {},
   "source": [
    "## Disjoint Partitions and Union-Find Structures"
   ]
  },
  {
   "cell_type": "code",
   "execution_count": null,
   "metadata": {
    "collapsed": true
   },
   "outputs": [],
   "source": []
  }
 ],
 "metadata": {
  "kernelspec": {
   "display_name": "Python [default]",
   "language": "python",
   "name": "python2"
  },
  "language_info": {
   "codemirror_mode": {
    "name": "ipython",
    "version": 2
   },
   "file_extension": ".py",
   "mimetype": "text/x-python",
   "name": "python",
   "nbconvert_exporter": "python",
   "pygments_lexer": "ipython2",
   "version": "2.7.13"
  },
  "toc": {
   "colors": {
    "hover_highlight": "#DAA520",
    "running_highlight": "#FF0000",
    "selected_highlight": "#FFD700"
   },
   "moveMenuLeft": true,
   "nav_menu": {
    "height": "11px",
    "width": "251px"
   },
   "navigate_menu": true,
   "number_sections": true,
   "sideBar": true,
   "threshold": 4,
   "toc_cell": false,
   "toc_position": {
    "height": "558px",
    "left": "0px",
    "right": "1114.31px",
    "top": "106px",
    "width": "238px"
   },
   "toc_section_display": "block",
   "toc_window_display": true
  }
 },
 "nbformat": 4,
 "nbformat_minor": 2
}
