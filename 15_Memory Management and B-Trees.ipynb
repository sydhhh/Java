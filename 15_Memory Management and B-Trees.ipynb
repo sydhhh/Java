{
 "cells": [
  {
   "cell_type": "markdown",
   "metadata": {
    "collapsed": true
   },
   "source": [
    "# Memory Management\n",
    "## Stacks in the Java Virtual Machine\n",
    "- A Java program is typically compiled into a sequence of __byte codes__ that serve\n",
    "as \"machine\" instructions for a well-defined model - the Java Virtual Machine\n",
    "(JVM).\n",
    "- A running Java program (more precisely, a running Java thread) has a private\n",
    "__stack__, called the __Java (methods) stack__, \n",
    "    - which is used\n",
    "to keep track of __local variables__ and other important information on __methods__ as they\n",
    "are invoked during execution.\n",
    "    - 所谓的stackoverflow就是指这个栈溢出，因为它很小。\n",
    "    - 为啥是栈呢？很明显，在调用内层的函数时，必须等他处理完后再进行外层的函数，当然是栈。\n",
    "        - 下图中的`PC`就是`Program Counter`.\n",
    "        - 栈顶的方法叫作`Running method.`\n",
    "        - 下面的叫作`Suspended methods`: methods that have invoked another method and are\n",
    "currently waiting for it to return control to them upon its termination.\n",
    "<img src='./pics/m1.jpg',width=400>"
   ]
  },
  {
   "cell_type": "markdown",
   "metadata": {},
   "source": [
    "- 其实还有一个栈叫Operand Stack，注意区分"
   ]
  },
  {
   "cell_type": "markdown",
   "metadata": {},
   "source": [
    "## Allocating Space in the Memory Heap\n",
    "- 上面讨论了Java Stack存储方法的局部变量，但Java还需要别的内存空间：Memory Heap\n",
    "\n",
    "- Dynamic Memory Allocation时：\n",
    "```java\n",
    "int[ ] items = new int[k];\n",
    "```\n",
    "    - 因为`k`在编译时不知道，这个时候就不能用Java Stack了。\n",
    "    - `memory heap`：处理`new`\n",
    "    \n",
    "<img src='./pics/m2.jpg',width=600>"
   ]
  },
  {
   "cell_type": "markdown",
   "metadata": {},
   "source": [
    "## Garbage Collection\n",
    "- From time to time, the Java virtual machine (JVM) may notice that available\n",
    "space in the memory heap is becoming scarce.\n",
    "    - At such times, the JVM can elect to\n",
    "reclaim the space that is being used for objects that are no longer live, and return the\n",
    "reclaimed memory to the free list."
   ]
  },
  {
   "cell_type": "markdown",
   "metadata": {},
   "source": [
    "# Memory Hierarchies and Caching\n",
    "<img src='./pics/m3.jpg',width=500>"
   ]
  },
  {
   "cell_type": "markdown",
   "metadata": {},
   "source": [
    "# External Searching and B-Trees"
   ]
  },
  {
   "cell_type": "markdown",
   "metadata": {},
   "source": [
    "## (a,b) Trees"
   ]
  },
  {
   "cell_type": "markdown",
   "metadata": {},
   "source": [
    "## B-Trees"
   ]
  },
  {
   "cell_type": "markdown",
   "metadata": {},
   "source": [
    "# External-Memory Sorting\n",
    "## Multiway Merge-Sort"
   ]
  }
 ],
 "metadata": {
  "kernelspec": {
   "display_name": "Python [default]",
   "language": "python",
   "name": "python2"
  },
  "language_info": {
   "codemirror_mode": {
    "name": "ipython",
    "version": 2
   },
   "file_extension": ".py",
   "mimetype": "text/x-python",
   "name": "python",
   "nbconvert_exporter": "python",
   "pygments_lexer": "ipython2",
   "version": "2.7.13"
  },
  "toc": {
   "colors": {
    "hover_highlight": "#DAA520",
    "running_highlight": "#FF0000",
    "selected_highlight": "#FFD700"
   },
   "moveMenuLeft": true,
   "nav_menu": {
    "height": "11px",
    "width": "251px"
   },
   "navigate_menu": true,
   "number_sections": true,
   "sideBar": true,
   "threshold": 4,
   "toc_cell": false,
   "toc_section_display": "block",
   "toc_window_display": true
  }
 },
 "nbformat": 4,
 "nbformat_minor": 2
}
